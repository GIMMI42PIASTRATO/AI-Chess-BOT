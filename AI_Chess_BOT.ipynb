{
  "nbformat": 4,
  "nbformat_minor": 0,
  "metadata": {
    "colab": {
      "provenance": [],
      "gpuType": "T4",
      "authorship_tag": "ABX9TyMQSHJc/HUUbuwKXyd6PBFW",
      "include_colab_link": true
    },
    "kernelspec": {
      "name": "python3",
      "display_name": "Python 3"
    },
    "language_info": {
      "name": "python"
    },
    "accelerator": "GPU"
  },
  "cells": [
    {
      "cell_type": "markdown",
      "metadata": {
        "id": "view-in-github",
        "colab_type": "text"
      },
      "source": [
        "<a href=\"https://colab.research.google.com/github/GIMMI42PIASTRATO/AI-Chess-BOT/blob/main/AI_Chess_BOT.ipynb\" target=\"_parent\"><img src=\"https://colab.research.google.com/assets/colab-badge.svg\" alt=\"Open In Colab\"/></a>"
      ]
    },
    {
      "cell_type": "markdown",
      "source": [
        "#Installation of all the dependencies"
      ],
      "metadata": {
        "id": "FoYboj9emDZB"
      }
    },
    {
      "cell_type": "code",
      "execution_count": 1,
      "metadata": {
        "id": "fmpThp-6Tzjj",
        "colab": {
          "base_uri": "https://localhost:8080/"
        },
        "outputId": "ec15f5af-8aa0-4ee8-e6c7-c24b2f44943b"
      },
      "outputs": [
        {
          "output_type": "stream",
          "name": "stdout",
          "text": [
            "Requirement already satisfied: kaggle in /usr/local/lib/python3.10/dist-packages (1.5.16)\n",
            "Requirement already satisfied: six>=1.10 in /usr/local/lib/python3.10/dist-packages (from kaggle) (1.16.0)\n",
            "Requirement already satisfied: certifi in /usr/local/lib/python3.10/dist-packages (from kaggle) (2023.7.22)\n",
            "Requirement already satisfied: python-dateutil in /usr/local/lib/python3.10/dist-packages (from kaggle) (2.8.2)\n",
            "Requirement already satisfied: requests in /usr/local/lib/python3.10/dist-packages (from kaggle) (2.31.0)\n",
            "Requirement already satisfied: tqdm in /usr/local/lib/python3.10/dist-packages (from kaggle) (4.65.0)\n",
            "Requirement already satisfied: python-slugify in /usr/local/lib/python3.10/dist-packages (from kaggle) (8.0.1)\n",
            "Requirement already satisfied: urllib3 in /usr/local/lib/python3.10/dist-packages (from kaggle) (1.26.16)\n",
            "Requirement already satisfied: bleach in /usr/local/lib/python3.10/dist-packages (from kaggle) (6.0.0)\n",
            "Requirement already satisfied: webencodings in /usr/local/lib/python3.10/dist-packages (from bleach->kaggle) (0.5.1)\n",
            "Requirement already satisfied: text-unidecode>=1.3 in /usr/local/lib/python3.10/dist-packages (from python-slugify->kaggle) (1.3)\n",
            "Requirement already satisfied: charset-normalizer<4,>=2 in /usr/local/lib/python3.10/dist-packages (from requests->kaggle) (3.2.0)\n",
            "Requirement already satisfied: idna<4,>=2.5 in /usr/local/lib/python3.10/dist-packages (from requests->kaggle) (3.4)\n",
            "cp: cannot stat 'kaggle.json': No such file or directory\n"
          ]
        }
      ],
      "source": [
        "!pip install kaggle\n",
        "!mkdir ~/.kaggle\n",
        "!cp kaggle.json ~/.kaggle"
      ]
    },
    {
      "cell_type": "code",
      "source": [
        "!kaggle datasets download arevel/chess-games\n",
        "!unzip -qq /content/chess-games.zip"
      ],
      "metadata": {
        "colab": {
          "base_uri": "https://localhost:8080/"
        },
        "id": "RYwIkEkRiije",
        "outputId": "1c8ce2d5-6e9d-4963-e15c-70cfef283d3a"
      },
      "execution_count": 2,
      "outputs": [
        {
          "output_type": "stream",
          "name": "stdout",
          "text": [
            "Traceback (most recent call last):\n",
            "  File \"/usr/local/bin/kaggle\", line 5, in <module>\n",
            "    from kaggle.cli import main\n",
            "  File \"/usr/local/lib/python3.10/dist-packages/kaggle/__init__.py\", line 23, in <module>\n",
            "    api.authenticate()\n",
            "  File \"/usr/local/lib/python3.10/dist-packages/kaggle/api/kaggle_api_extended.py\", line 403, in authenticate\n",
            "    raise IOError('Could not find {}. Make sure it\\'s located in'\n",
            "OSError: Could not find kaggle.json. Make sure it's located in /root/.kaggle. Or use the environment method.\n",
            "unzip:  cannot find or open /content/chess-games.zip, /content/chess-games.zip.zip or /content/chess-games.zip.ZIP.\n"
          ]
        }
      ]
    },
    {
      "cell_type": "code",
      "source": [
        "!pip install chess -q"
      ],
      "metadata": {
        "colab": {
          "base_uri": "https://localhost:8080/"
        },
        "id": "_DAz9zaklx7-",
        "outputId": "40671a14-8653-4673-e901-98f0baed6e38"
      },
      "execution_count": 3,
      "outputs": [
        {
          "output_type": "stream",
          "name": "stdout",
          "text": [
            "\u001b[?25l     \u001b[90m━━━━━━━━━━━━━━━━━━━━━━━━━━━━━━━━━━━━━━━━\u001b[0m \u001b[32m0.0/154.4 kB\u001b[0m \u001b[31m?\u001b[0m eta \u001b[36m-:--:--\u001b[0m\r\u001b[2K     \u001b[91m━━━━━━━━━━━━━━━\u001b[0m\u001b[91m╸\u001b[0m\u001b[90m━━━━━━━━━━━━━━━━━━━━━━━━\u001b[0m \u001b[32m61.4/154.4 kB\u001b[0m \u001b[31m1.9 MB/s\u001b[0m eta \u001b[36m0:00:01\u001b[0m\r\u001b[2K     \u001b[90m━━━━━━━━━━━━━━━━━━━━━━━━━━━━━━━━━━━━━━━\u001b[0m \u001b[32m154.4/154.4 kB\u001b[0m \u001b[31m2.6 MB/s\u001b[0m eta \u001b[36m0:00:00\u001b[0m\n",
            "\u001b[?25h"
          ]
        }
      ]
    },
    {
      "cell_type": "markdown",
      "source": [
        "#CODE"
      ],
      "metadata": {
        "id": "NMOnTNf1mwCQ"
      }
    },
    {
      "cell_type": "code",
      "source": [
        "import chess\n",
        "import numpy as np\n",
        "import re"
      ],
      "metadata": {
        "id": "3ui4aeS7mrdm"
      },
      "execution_count": 4,
      "outputs": []
    },
    {
      "cell_type": "markdown",
      "source": [
        "##Mapping the chess board"
      ],
      "metadata": {
        "id": "82fr8WGBnY7j"
      }
    },
    {
      "cell_type": "code",
      "source": [
        "letter_to_num = {'a': 0, 'b': 1, 'c': 2, 'd': 3, 'e': 4, 'f': 5, 'g': 6, 'h': 7}\n",
        "num_to_letter = {0: 'a', 1: 'b', 2: 'c', 3: 'd', 4: 'e', 5: 'f', 6: 'g', 7: 'h'}"
      ],
      "metadata": {
        "id": "txNKSUIDnXvs"
      },
      "execution_count": 5,
      "outputs": []
    },
    {
      "cell_type": "markdown",
      "source": [
        "##Chess board to matrix"
      ],
      "metadata": {
        "id": "ys4rBdefy4MI"
      }
    },
    {
      "cell_type": "markdown",
      "source": [
        "###Board to rappresentation\n",
        "This function create a numpy tensor (3D numpyarray) which rapresent the board containing every position of every chess pice.\n",
        "Every chess pice has is own mapping (Is a matrix representing the chessboard that maps the position of only one type of pieces)"
      ],
      "metadata": {
        "id": "C4Kd49vRpWFE"
      }
    },
    {
      "cell_type": "code",
      "source": [
        "def board_to_rep(board: chess.Board()):\n",
        "  pieces = ['p', 'r', 'n', 'b', 'q', 'k'] #Initials of the names of the pieces\n",
        "  layers = []\n",
        "  for piece in pieces:\n",
        "    layers.append(layer_to_rep(board, piece))\n",
        "  board_rep = np.stack(layers)\n",
        "  return board_rep"
      ],
      "metadata": {
        "id": "SGI6JVJmqycH"
      },
      "execution_count": 5,
      "outputs": []
    },
    {
      "cell_type": "markdown",
      "source": [
        "###Layer rappresentation"
      ],
      "metadata": {
        "id": "F5rq1ZjUsuQ8"
      }
    },
    {
      "cell_type": "code",
      "source": [
        "def layer_to_rep(board, piece):\n",
        "  str_board = str(board)\n",
        "  str_board = re.sub(f\"[^{piece}{piece.upper()} \\n]\", \".\", str_board)\n",
        "  str_board = re.sub(f\"{piece}\", \"1\", str_board)\n",
        "  str_board = re.sub(f\"{piece.upper()}\", \"-1\", str_board)\n",
        "  str_board = re.sub(\"\\.\", \"0\", str_board)\n",
        "\n",
        "  board_matrix = []\n",
        "  for row in str_board.split(\"\\n\"):\n",
        "    row = row.split()\n",
        "    row = [int(x) for x in row]\n",
        "    board_matrix.append(row)\n",
        "\n",
        "  return np.array(board_matrix)"
      ],
      "metadata": {
        "id": "eyeWsAmOsyHW"
      },
      "execution_count": 6,
      "outputs": []
    },
    {
      "cell_type": "markdown",
      "source": [
        "##Chess move to matrix"
      ],
      "metadata": {
        "id": "yqF_9LmkzDnU"
      }
    },
    {
      "cell_type": "markdown",
      "source": [
        "###Move to rappresentation"
      ],
      "metadata": {
        "id": "s79HijmT4TSZ"
      }
    },
    {
      "cell_type": "code",
      "source": [
        "def move_to_rep(move, board: chess.Board()):\n",
        "  board.push_san(move).uci()\n",
        "  move = str(board.pop())\n",
        "\n",
        "  from_output_layer = np.zeros((8, 8))\n",
        "  from_row = 8 - int(move[1])\n",
        "  from_column = letter_to_num[move[0]]\n",
        "  from_output_layer[from_row][from_column] = 1\n",
        "\n",
        "  to_output_layer = np.zeros((8, 8))\n",
        "  to_row = 8 - int(move[3])\n",
        "  to_column = letter_to_num[move[2]]\n",
        "  to_output_layer[to_row][to_column]\n",
        "\n",
        "  return np.stack((from_output_layer, to_output_layer))"
      ],
      "metadata": {
        "id": "xiNeA1SszIk-"
      },
      "execution_count": 8,
      "outputs": []
    }
  ]
}
{
  "cells": [
    {
      "cell_type": "markdown",
      "metadata": {
        "id": "view-in-github",
        "colab_type": "text"
      },
      "source": [
        "<a href=\"https://colab.research.google.com/github/GIMMI42PIASTRATO/AI-Chess-BOT/blob/main/AI_Chess_BOT.ipynb\" target=\"_parent\"><img src=\"https://colab.research.google.com/assets/colab-badge.svg\" alt=\"Open In Colab\"/></a>"
      ]
    },
    {
      "cell_type": "markdown",
      "metadata": {
        "id": "FoYboj9emDZB"
      },
      "source": [
        "#Installation of all the dependencies"
      ]
    },
    {
      "cell_type": "code",
      "execution_count": null,
      "metadata": {
        "colab": {
          "base_uri": "https://localhost:8080/"
        },
        "id": "fmpThp-6Tzjj",
        "outputId": "ce856560-2db6-4c3f-c8f5-aca6c183c731"
      },
      "outputs": [
        {
          "output_type": "stream",
          "name": "stdout",
          "text": [
            "Requirement already satisfied: kaggle in /usr/local/lib/python3.10/dist-packages (1.5.16)\n",
            "Requirement already satisfied: six>=1.10 in /usr/local/lib/python3.10/dist-packages (from kaggle) (1.16.0)\n",
            "Requirement already satisfied: certifi in /usr/local/lib/python3.10/dist-packages (from kaggle) (2023.7.22)\n",
            "Requirement already satisfied: python-dateutil in /usr/local/lib/python3.10/dist-packages (from kaggle) (2.8.2)\n",
            "Requirement already satisfied: requests in /usr/local/lib/python3.10/dist-packages (from kaggle) (2.31.0)\n",
            "Requirement already satisfied: tqdm in /usr/local/lib/python3.10/dist-packages (from kaggle) (4.66.1)\n",
            "Requirement already satisfied: python-slugify in /usr/local/lib/python3.10/dist-packages (from kaggle) (8.0.1)\n",
            "Requirement already satisfied: urllib3 in /usr/local/lib/python3.10/dist-packages (from kaggle) (2.0.4)\n",
            "Requirement already satisfied: bleach in /usr/local/lib/python3.10/dist-packages (from kaggle) (6.0.0)\n",
            "Requirement already satisfied: webencodings in /usr/local/lib/python3.10/dist-packages (from bleach->kaggle) (0.5.1)\n",
            "Requirement already satisfied: text-unidecode>=1.3 in /usr/local/lib/python3.10/dist-packages (from python-slugify->kaggle) (1.3)\n",
            "Requirement already satisfied: charset-normalizer<4,>=2 in /usr/local/lib/python3.10/dist-packages (from requests->kaggle) (3.2.0)\n",
            "Requirement already satisfied: idna<4,>=2.5 in /usr/local/lib/python3.10/dist-packages (from requests->kaggle) (3.4)\n"
          ]
        }
      ],
      "source": [
        "!pip install kaggle\n",
        "!mkdir ~/.kaggle\n",
        "!cp kaggle.json ~/.kaggle"
      ]
    },
    {
      "cell_type": "code",
      "execution_count": null,
      "metadata": {
        "colab": {
          "base_uri": "https://localhost:8080/"
        },
        "id": "RYwIkEkRiije",
        "outputId": "1190d347-fbe4-470d-cd59-99a84316ace6"
      },
      "outputs": [
        {
          "output_type": "stream",
          "name": "stdout",
          "text": [
            "Warning: Your Kaggle API key is readable by other users on this system! To fix this, you can run 'chmod 600 /root/.kaggle/kaggle.json'\n",
            "Downloading chess-games.zip to /content\n",
            "100% 1.44G/1.45G [00:15<00:00, 161MB/s]\n",
            "100% 1.45G/1.45G [00:15<00:00, 100MB/s]\n"
          ]
        }
      ],
      "source": [
        "!kaggle datasets download arevel/chess-games\n",
        "!unzip -qq /content/chess-games.zip"
      ]
    },
    {
      "cell_type": "code",
      "execution_count": null,
      "metadata": {
        "id": "_DAz9zaklx7-",
        "colab": {
          "base_uri": "https://localhost:8080/"
        },
        "outputId": "66fcbc0a-00ba-4254-e6ca-74be57bafb14"
      },
      "outputs": [
        {
          "output_type": "stream",
          "name": "stdout",
          "text": [
            "\u001b[?25l     \u001b[90m━━━━━━━━━━━━━━━━━━━━━━━━━━━━━━━━━━━━━━━━\u001b[0m \u001b[32m0.0/154.4 kB\u001b[0m \u001b[31m?\u001b[0m eta \u001b[36m-:--:--\u001b[0m\r\u001b[2K     \u001b[91m━━━━━━━\u001b[0m\u001b[91m╸\u001b[0m\u001b[90m━━━━━━━━━━━━━━━━━━━━━━━━━━━━━━\u001b[0m \u001b[32m30.7/154.4 kB\u001b[0m \u001b[31m882.7 kB/s\u001b[0m eta \u001b[36m0:00:01\u001b[0m\r\u001b[2K     \u001b[90m━━━━━━━━━━━━━━━━━━━━━━━━━━━━━━━━━━━━━━━\u001b[0m \u001b[32m154.4/154.4 kB\u001b[0m \u001b[31m2.2 MB/s\u001b[0m eta \u001b[36m0:00:00\u001b[0m\n",
            "\u001b[?25h"
          ]
        }
      ],
      "source": [
        "!pip install chess -q"
      ]
    },
    {
      "cell_type": "markdown",
      "metadata": {
        "id": "NMOnTNf1mwCQ"
      },
      "source": [
        "#CODE"
      ]
    },
    {
      "cell_type": "code",
      "execution_count": null,
      "metadata": {
        "id": "3ui4aeS7mrdm"
      },
      "outputs": [],
      "source": [
        "import torch\n",
        "from torch.utils.data import Dataset\n",
        "from torch.utils.data.dataloader import DataLoader\n",
        "import torch.nn as nn\n",
        "import chess\n",
        "import numpy as np\n",
        "import pandas as pd\n",
        "from pandas.core.generic import gc\n",
        "import re"
      ]
    },
    {
      "cell_type": "markdown",
      "metadata": {
        "id": "82fr8WGBnY7j"
      },
      "source": [
        "##Mapping the chess board"
      ]
    },
    {
      "cell_type": "code",
      "execution_count": null,
      "metadata": {
        "id": "txNKSUIDnXvs"
      },
      "outputs": [],
      "source": [
        "letter_to_num = {'a': 0, 'b': 1, 'c': 2, 'd': 3, 'e': 4, 'f': 5, 'g': 6, 'h': 7}\n",
        "num_to_letter = {0: 'a', 1: 'b', 2: 'c', 3: 'd', 4: 'e', 5: 'f', 6: 'g', 7: 'h'}"
      ]
    },
    {
      "cell_type": "markdown",
      "metadata": {
        "id": "ys4rBdefy4MI"
      },
      "source": [
        "##Chess board to matrix"
      ]
    },
    {
      "cell_type": "markdown",
      "metadata": {
        "id": "C4Kd49vRpWFE"
      },
      "source": [
        "###Board to rappresentation\n",
        "This function create a numpy tensor (3D numpyarray) which rapresent the board containing every position of every chess pice.\n",
        "Every chess pice has is own mapping (Is a matrix representing the chessboard that maps the position of only one type of pieces)"
      ]
    },
    {
      "cell_type": "code",
      "execution_count": null,
      "metadata": {
        "id": "SGI6JVJmqycH"
      },
      "outputs": [],
      "source": [
        "def board_to_rep(board: chess.Board()):\n",
        "  pieces = ['p', 'r', 'n', 'b', 'q', 'k'] #Initials of the names of the pieces\n",
        "  layers = []\n",
        "  for piece in pieces:\n",
        "    layers.append(layer_to_rep(board, piece))\n",
        "  board_rep = np.stack(layers)\n",
        "  return board_rep"
      ]
    },
    {
      "cell_type": "markdown",
      "metadata": {
        "id": "F5rq1ZjUsuQ8"
      },
      "source": [
        "###Layer rappresentation"
      ]
    },
    {
      "cell_type": "code",
      "execution_count": null,
      "metadata": {
        "id": "eyeWsAmOsyHW"
      },
      "outputs": [],
      "source": [
        "def layer_to_rep(board, piece):\n",
        "  str_board = str(board)\n",
        "  str_board = re.sub(f\"[^{piece}{piece.upper()} \\n]\", \".\", str_board)\n",
        "  str_board = re.sub(f\"{piece}\", \"1\", str_board)\n",
        "  str_board = re.sub(f\"{piece.upper()}\", \"-1\", str_board)\n",
        "  str_board = re.sub(\"\\.\", \"0\", str_board)\n",
        "\n",
        "  board_matrix = []\n",
        "  for row in str_board.split(\"\\n\"):\n",
        "    row = row.split()\n",
        "    row = [int(x) for x in row]\n",
        "    board_matrix.append(row)\n",
        "\n",
        "  return np.array(board_matrix)"
      ]
    },
    {
      "cell_type": "markdown",
      "metadata": {
        "id": "yqF_9LmkzDnU"
      },
      "source": [
        "##Chess move to matrix"
      ]
    },
    {
      "cell_type": "markdown",
      "metadata": {
        "id": "s79HijmT4TSZ"
      },
      "source": [
        "###Move to rappresentation"
      ]
    },
    {
      "cell_type": "code",
      "execution_count": null,
      "metadata": {
        "id": "xiNeA1SszIk-"
      },
      "outputs": [],
      "source": [
        "def move_to_rep(move, board: chess.Board()):\n",
        "  board.push_san(move).uci()\n",
        "  move = str(board.pop())\n",
        "\n",
        "  from_output_layer = np.zeros((8, 8))\n",
        "  from_row = 8 - int(move[1])\n",
        "  from_column = letter_to_num[move[0]]\n",
        "  from_output_layer[from_row][from_column] = 1\n",
        "\n",
        "  to_output_layer = np.zeros((8, 8))\n",
        "  to_row = 8 - int(move[3])\n",
        "  to_column = letter_to_num[move[2]]\n",
        "  to_output_layer[to_row][to_column]\n",
        "\n",
        "  return np.stack((from_output_layer, to_output_layer))"
      ]
    },
    {
      "cell_type": "markdown",
      "metadata": {
        "id": "xn3Ff2vXvpWp"
      },
      "source": [
        "##Create move list from dataset move list\n"
      ]
    },
    {
      "cell_type": "code",
      "execution_count": null,
      "metadata": {
        "id": "R9D_TdynvscD"
      },
      "outputs": [],
      "source": [
        "def create_move_list(string_move_list):\n",
        "    return re.sub(\"\\d*\\. \", '', string_move_list).split()[:-1]"
      ]
    },
    {
      "cell_type": "markdown",
      "metadata": {
        "id": "cxNIUjs8Q6dT"
      },
      "source": [
        "#Importing and filtering the data"
      ]
    },
    {
      "cell_type": "code",
      "source": [
        "chess_data_raw = pd.read_csv(\"/content/chess_games.csv\", usecols=[\"AN\", \"WhiteElo\", \"BlackElo\"])"
      ],
      "metadata": {
        "id": "39WUlWWVZqrb"
      },
      "execution_count": null,
      "outputs": []
    },
    {
      "cell_type": "code",
      "execution_count": null,
      "metadata": {
        "colab": {
          "base_uri": "https://localhost:8080/"
        },
        "id": "ad2AdDQfRA3d",
        "outputId": "9b779bcc-323a-4a70-a33f-f5730d7d97c5"
      },
      "outputs": [
        {
          "output_type": "stream",
          "name": "stdout",
          "text": [
            "(1017420, 1)\n"
          ]
        }
      ],
      "source": [
        "chess_data = chess_data_raw[(chess_data_raw[\"WhiteElo\"] >= 1900) & (chess_data_raw[\"BlackElo\"] >= 1900)]\n",
        "del chess_data_raw\n",
        "gc.collect()\n",
        "chess_data = chess_data[[\"AN\"]]\n",
        "chess_data = chess_data[~chess_data[\"AN\"].str.contains(\"{\")]\n",
        "chess_data = chess_data[chess_data[\"AN\"].str.len() > 20]\n",
        "print(chess_data.shape)"
      ]
    },
    {
      "cell_type": "code",
      "source": [
        "chess_data.head()"
      ],
      "metadata": {
        "colab": {
          "base_uri": "https://localhost:8080/",
          "height": 206
        },
        "id": "I27BFgmsHbNz",
        "outputId": "c1febd90-52d1-4c35-a629-001c5b8dac85"
      },
      "execution_count": null,
      "outputs": [
        {
          "output_type": "execute_result",
          "data": {
            "text/plain": [
              "                                                   AN\n",
              "4   1. e4 c5 2. Nf3 d6 3. d4 cxd4 4. Nxd4 Nf6 5. N...\n",
              "7   1. d4 d5 2. Nf3 Nf6 3. Bf4 c6 4. e3 Bg4 5. Be2...\n",
              "8   1. d4 Nf6 2. Bf4 e6 3. e3 d5 4. Nf3 h6 5. Bd3 ...\n",
              "13  1. b4 e6 2. Bb2 d5 3. Nf3 Nf6 4. b5 Be7 5. e3 ...\n",
              "16  1. e4 c6 2. Nf3 d5 3. Nc3 g6 4. d3 Bg7 5. Be2 ..."
            ],
            "text/html": [
              "\n",
              "  <div id=\"df-511d2ffa-05c8-4266-8039-91cf2f0baeb3\" class=\"colab-df-container\">\n",
              "    <div>\n",
              "<style scoped>\n",
              "    .dataframe tbody tr th:only-of-type {\n",
              "        vertical-align: middle;\n",
              "    }\n",
              "\n",
              "    .dataframe tbody tr th {\n",
              "        vertical-align: top;\n",
              "    }\n",
              "\n",
              "    .dataframe thead th {\n",
              "        text-align: right;\n",
              "    }\n",
              "</style>\n",
              "<table border=\"1\" class=\"dataframe\">\n",
              "  <thead>\n",
              "    <tr style=\"text-align: right;\">\n",
              "      <th></th>\n",
              "      <th>AN</th>\n",
              "    </tr>\n",
              "  </thead>\n",
              "  <tbody>\n",
              "    <tr>\n",
              "      <th>4</th>\n",
              "      <td>1. e4 c5 2. Nf3 d6 3. d4 cxd4 4. Nxd4 Nf6 5. N...</td>\n",
              "    </tr>\n",
              "    <tr>\n",
              "      <th>7</th>\n",
              "      <td>1. d4 d5 2. Nf3 Nf6 3. Bf4 c6 4. e3 Bg4 5. Be2...</td>\n",
              "    </tr>\n",
              "    <tr>\n",
              "      <th>8</th>\n",
              "      <td>1. d4 Nf6 2. Bf4 e6 3. e3 d5 4. Nf3 h6 5. Bd3 ...</td>\n",
              "    </tr>\n",
              "    <tr>\n",
              "      <th>13</th>\n",
              "      <td>1. b4 e6 2. Bb2 d5 3. Nf3 Nf6 4. b5 Be7 5. e3 ...</td>\n",
              "    </tr>\n",
              "    <tr>\n",
              "      <th>16</th>\n",
              "      <td>1. e4 c6 2. Nf3 d5 3. Nc3 g6 4. d3 Bg7 5. Be2 ...</td>\n",
              "    </tr>\n",
              "  </tbody>\n",
              "</table>\n",
              "</div>\n",
              "    <div class=\"colab-df-buttons\">\n",
              "\n",
              "  <div class=\"colab-df-container\">\n",
              "    <button class=\"colab-df-convert\" onclick=\"convertToInteractive('df-511d2ffa-05c8-4266-8039-91cf2f0baeb3')\"\n",
              "            title=\"Convert this dataframe to an interactive table.\"\n",
              "            style=\"display:none;\">\n",
              "\n",
              "  <svg xmlns=\"http://www.w3.org/2000/svg\" height=\"24px\" viewBox=\"0 -960 960 960\">\n",
              "    <path d=\"M120-120v-720h720v720H120Zm60-500h600v-160H180v160Zm220 220h160v-160H400v160Zm0 220h160v-160H400v160ZM180-400h160v-160H180v160Zm440 0h160v-160H620v160ZM180-180h160v-160H180v160Zm440 0h160v-160H620v160Z\"/>\n",
              "  </svg>\n",
              "    </button>\n",
              "\n",
              "  <style>\n",
              "    .colab-df-container {\n",
              "      display:flex;\n",
              "      gap: 12px;\n",
              "    }\n",
              "\n",
              "    .colab-df-convert {\n",
              "      background-color: #E8F0FE;\n",
              "      border: none;\n",
              "      border-radius: 50%;\n",
              "      cursor: pointer;\n",
              "      display: none;\n",
              "      fill: #1967D2;\n",
              "      height: 32px;\n",
              "      padding: 0 0 0 0;\n",
              "      width: 32px;\n",
              "    }\n",
              "\n",
              "    .colab-df-convert:hover {\n",
              "      background-color: #E2EBFA;\n",
              "      box-shadow: 0px 1px 2px rgba(60, 64, 67, 0.3), 0px 1px 3px 1px rgba(60, 64, 67, 0.15);\n",
              "      fill: #174EA6;\n",
              "    }\n",
              "\n",
              "    .colab-df-buttons div {\n",
              "      margin-bottom: 4px;\n",
              "    }\n",
              "\n",
              "    [theme=dark] .colab-df-convert {\n",
              "      background-color: #3B4455;\n",
              "      fill: #D2E3FC;\n",
              "    }\n",
              "\n",
              "    [theme=dark] .colab-df-convert:hover {\n",
              "      background-color: #434B5C;\n",
              "      box-shadow: 0px 1px 3px 1px rgba(0, 0, 0, 0.15);\n",
              "      filter: drop-shadow(0px 1px 2px rgba(0, 0, 0, 0.3));\n",
              "      fill: #FFFFFF;\n",
              "    }\n",
              "  </style>\n",
              "\n",
              "    <script>\n",
              "      const buttonEl =\n",
              "        document.querySelector('#df-511d2ffa-05c8-4266-8039-91cf2f0baeb3 button.colab-df-convert');\n",
              "      buttonEl.style.display =\n",
              "        google.colab.kernel.accessAllowed ? 'block' : 'none';\n",
              "\n",
              "      async function convertToInteractive(key) {\n",
              "        const element = document.querySelector('#df-511d2ffa-05c8-4266-8039-91cf2f0baeb3');\n",
              "        const dataTable =\n",
              "          await google.colab.kernel.invokeFunction('convertToInteractive',\n",
              "                                                    [key], {});\n",
              "        if (!dataTable) return;\n",
              "\n",
              "        const docLinkHtml = 'Like what you see? Visit the ' +\n",
              "          '<a target=\"_blank\" href=https://colab.research.google.com/notebooks/data_table.ipynb>data table notebook</a>'\n",
              "          + ' to learn more about interactive tables.';\n",
              "        element.innerHTML = '';\n",
              "        dataTable['output_type'] = 'display_data';\n",
              "        await google.colab.output.renderOutput(dataTable, element);\n",
              "        const docLink = document.createElement('div');\n",
              "        docLink.innerHTML = docLinkHtml;\n",
              "        element.appendChild(docLink);\n",
              "      }\n",
              "    </script>\n",
              "  </div>\n",
              "\n",
              "\n",
              "<div id=\"df-5d8204f1-4d75-4835-9ed0-2ab42adddcf4\">\n",
              "  <button class=\"colab-df-quickchart\" onclick=\"quickchart('df-5d8204f1-4d75-4835-9ed0-2ab42adddcf4')\"\n",
              "            title=\"Suggest charts.\"\n",
              "            style=\"display:none;\">\n",
              "\n",
              "<svg xmlns=\"http://www.w3.org/2000/svg\" height=\"24px\"viewBox=\"0 0 24 24\"\n",
              "     width=\"24px\">\n",
              "    <g>\n",
              "        <path d=\"M19 3H5c-1.1 0-2 .9-2 2v14c0 1.1.9 2 2 2h14c1.1 0 2-.9 2-2V5c0-1.1-.9-2-2-2zM9 17H7v-7h2v7zm4 0h-2V7h2v10zm4 0h-2v-4h2v4z\"/>\n",
              "    </g>\n",
              "</svg>\n",
              "  </button>\n",
              "\n",
              "<style>\n",
              "  .colab-df-quickchart {\n",
              "    background-color: #E8F0FE;\n",
              "    border: none;\n",
              "    border-radius: 50%;\n",
              "    cursor: pointer;\n",
              "    display: none;\n",
              "    fill: #1967D2;\n",
              "    height: 32px;\n",
              "    padding: 0 0 0 0;\n",
              "    width: 32px;\n",
              "  }\n",
              "\n",
              "  .colab-df-quickchart:hover {\n",
              "    background-color: #E2EBFA;\n",
              "    box-shadow: 0px 1px 2px rgba(60, 64, 67, 0.3), 0px 1px 3px 1px rgba(60, 64, 67, 0.15);\n",
              "    fill: #174EA6;\n",
              "  }\n",
              "\n",
              "  [theme=dark] .colab-df-quickchart {\n",
              "    background-color: #3B4455;\n",
              "    fill: #D2E3FC;\n",
              "  }\n",
              "\n",
              "  [theme=dark] .colab-df-quickchart:hover {\n",
              "    background-color: #434B5C;\n",
              "    box-shadow: 0px 1px 3px 1px rgba(0, 0, 0, 0.15);\n",
              "    filter: drop-shadow(0px 1px 2px rgba(0, 0, 0, 0.3));\n",
              "    fill: #FFFFFF;\n",
              "  }\n",
              "</style>\n",
              "\n",
              "  <script>\n",
              "    async function quickchart(key) {\n",
              "      const charts = await google.colab.kernel.invokeFunction(\n",
              "          'suggestCharts', [key], {});\n",
              "    }\n",
              "    (() => {\n",
              "      let quickchartButtonEl =\n",
              "        document.querySelector('#df-5d8204f1-4d75-4835-9ed0-2ab42adddcf4 button');\n",
              "      quickchartButtonEl.style.display =\n",
              "        google.colab.kernel.accessAllowed ? 'block' : 'none';\n",
              "    })();\n",
              "  </script>\n",
              "</div>\n",
              "    </div>\n",
              "  </div>\n"
            ]
          },
          "metadata": {},
          "execution_count": 13
        }
      ]
    },
    {
      "cell_type": "markdown",
      "source": [
        "#Creating the Dataset\n",
        "In PyTorch, la classe Dataset è utilizzata per gestire e organizzare i dati che verranno utilizzati per l'addestramento e la validazione dei modelli di apprendimento automatico. Questi dati possono essere immagini, testo, suoni o qualsiasi altro tipo di informazione. La classe Dataset fornisce un'interfaccia comoda per accedere a questi dati in modo efficiente.\n",
        "\n",
        "Il metodo __getitem__ è un metodo speciale nella classe Dataset che ti permette di accedere a un singolo campione di dati in base al suo indice. Quando crei una sottoclasse della classe Dataset e implementi il metodo __getitem__, stai fondamentalmente definendo come ottenere un campione specifico dai dati. Ad esempio, se stai lavorando con un set di immagini, __getitem__ potrebbe caricare un'immagine dal disco e applicare le trasformazioni necessarie."
      ],
      "metadata": {
        "id": "2V9RrXYrPwaF"
      }
    },
    {
      "cell_type": "code",
      "source": [
        "class ChessDataset(Dataset):\n",
        "\n",
        "    def __init__(self, games):\n",
        "        super().__init__()\n",
        "        self.games = games\n",
        "\n",
        "    def __len__(self):                                          #len(self) return call __len__\n",
        "        return self.games.shape[0]\n",
        "\n",
        "    def __getitem__(self, key):\n",
        "        game_index = np.random.randint(self.games.shape[0])     #Create the index for get the game\n",
        "        random_game = self.games['AN'].values[game_index]       #Get the game using the game_index\n",
        "        moves = create_move_list(random_game)                   #Create the move list using the create_move_list function\n",
        "        move_index = np.random.randint(len(moves) - 1)          #Create the index for get the move\n",
        "        next_move = moves[move_index]                           #Get the move\n",
        "        moves = moves[:move_index]                              #I don't know why this\n",
        "        board = chess.Board()                                   #Create the board object\n",
        "\n",
        "        for move in moves:\n",
        "            board.push_san(move)\n",
        "\n",
        "        board_rep = board_to_rep(board)\n",
        "        move_rep = move_to_rep(next_move, board)\n",
        "\n",
        "        if move_index % 2:\n",
        "            board_rep *= -1\n",
        "        return board_rep, move_rep\n"
      ],
      "metadata": {
        "id": "S1kBBGBvGzGB"
      },
      "execution_count": 42,
      "outputs": []
    },
    {
      "cell_type": "markdown",
      "source": [
        "##Initialisation of the dataset"
      ],
      "metadata": {
        "id": "JXsrEAmNQYpx"
      }
    },
    {
      "cell_type": "code",
      "source": [
        "data_train = ChessDataset(chess_data['AN'])\n",
        "data_train_loader = DataLoader(data_train, batch_size=32, shuffle=True, drop_last=True)"
      ],
      "metadata": {
        "id": "owQwOeB_Qd2G"
      },
      "execution_count": 43,
      "outputs": []
    },
    {
      "cell_type": "markdown",
      "source": [
        "#Creating the neural network"
      ],
      "metadata": {
        "id": "_GeQFx8leykV"
      }
    },
    {
      "cell_type": "code",
      "source": [
        "class Module(nn.Module):\n",
        "\n",
        "    def __init__(self, hidden_layer):\n",
        "       super().__init__()\n",
        "       self.conv1 = nn.Conv2d"
      ],
      "metadata": {
        "colab": {
          "base_uri": "https://localhost:8080/",
          "height": 233
        },
        "id": "OdgNPJioewcZ",
        "outputId": "7ed76d9c-7b5f-42f9-9775-975b93bfd326"
      },
      "execution_count": 44,
      "outputs": [
        {
          "output_type": "error",
          "ename": "NameError",
          "evalue": "ignored",
          "traceback": [
            "\u001b[0;31m---------------------------------------------------------------------------\u001b[0m",
            "\u001b[0;31mNameError\u001b[0m                                 Traceback (most recent call last)",
            "\u001b[0;32m<ipython-input-44-819ce5d49c38>\u001b[0m in \u001b[0;36m<cell line: 1>\u001b[0;34m()\u001b[0m\n\u001b[0;32m----> 1\u001b[0;31m \u001b[0;32mclass\u001b[0m \u001b[0mModule\u001b[0m\u001b[0;34m(\u001b[0m\u001b[0mnn\u001b[0m\u001b[0;34m.\u001b[0m\u001b[0mModule\u001b[0m\u001b[0;34m)\u001b[0m\u001b[0;34m:\u001b[0m\u001b[0;34m\u001b[0m\u001b[0;34m\u001b[0m\u001b[0m\n\u001b[0m\u001b[1;32m      2\u001b[0m \u001b[0;34m\u001b[0m\u001b[0m\n\u001b[1;32m      3\u001b[0m     \u001b[0;32mdef\u001b[0m \u001b[0m__init__\u001b[0m\u001b[0;34m(\u001b[0m\u001b[0mself\u001b[0m\u001b[0;34m,\u001b[0m \u001b[0mhidden_size\u001b[0m\u001b[0;34m)\u001b[0m\u001b[0;34m:\u001b[0m\u001b[0;34m\u001b[0m\u001b[0;34m\u001b[0m\u001b[0m\n\u001b[1;32m      4\u001b[0m         \u001b[0msuper\u001b[0m\u001b[0;34m(\u001b[0m\u001b[0;34m)\u001b[0m\u001b[0;34m.\u001b[0m\u001b[0mi\u001b[0m\u001b[0;34m\u001b[0m\u001b[0;34m\u001b[0m\u001b[0m\n",
            "\u001b[0;31mNameError\u001b[0m: name 'nn' is not defined"
          ]
        }
      ]
    }
  ],
  "metadata": {
    "colab": {
      "provenance": [],
      "authorship_tag": "ABX9TyN8UW2Bp9NuCOr4y0fxfNDo",
      "include_colab_link": true
    },
    "kernelspec": {
      "display_name": "Python 3",
      "name": "python3"
    },
    "language_info": {
      "name": "python"
    }
  },
  "nbformat": 4,
  "nbformat_minor": 0
}